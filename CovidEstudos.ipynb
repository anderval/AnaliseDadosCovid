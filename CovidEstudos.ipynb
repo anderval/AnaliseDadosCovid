{
 "metadata": {
  "language_info": {
   "codemirror_mode": {
    "name": "ipython",
    "version": 3
   },
   "file_extension": ".py",
   "mimetype": "text/x-python",
   "name": "python",
   "nbconvert_exporter": "python",
   "pygments_lexer": "ipython3",
   "version": "3.9.5"
  },
  "orig_nbformat": 4,
  "kernelspec": {
   "name": "python3",
   "display_name": "Python 3.9.5 64-bit"
  },
  "interpreter": {
   "hash": "11505e3058d7fcd350ae0a42362cb175382c762c73804dde92de9af7d397120b"
  }
 },
 "nbformat": 4,
 "nbformat_minor": 2,
 "cells": [
  {
   "cell_type": "code",
   "execution_count": 2,
   "metadata": {},
   "outputs": [],
   "source": [
    "import pandas as pd\n",
    "import matplotlib.pyplot as plt\n",
    "import numpy as np"
   ]
  },
  {
   "cell_type": "code",
   "execution_count": 42,
   "metadata": {},
   "outputs": [],
   "source": [
    "df = pd.read_csv('../Estudo_Covid/Dados-covid-19-municipios.csv',)"
   ]
  },
  {
   "cell_type": "code",
   "execution_count": 127,
   "metadata": {},
   "outputs": [
    {
     "output_type": "execute_result",
     "data": {
      "text/plain": [
       "   Cod_IBGE Grande região   Município  Mun_Total de casos  Mun_Total de óbitos\n",
       "0   3500105      Interior  Adamantina                3421                  110"
      ],
      "text/html": "<div>\n<style scoped>\n    .dataframe tbody tr th:only-of-type {\n        vertical-align: middle;\n    }\n\n    .dataframe tbody tr th {\n        vertical-align: top;\n    }\n\n    .dataframe thead th {\n        text-align: right;\n    }\n</style>\n<table border=\"1\" class=\"dataframe\">\n  <thead>\n    <tr style=\"text-align: right;\">\n      <th></th>\n      <th>Cod_IBGE</th>\n      <th>Grande região</th>\n      <th>Município</th>\n      <th>Mun_Total de casos</th>\n      <th>Mun_Total de óbitos</th>\n    </tr>\n  </thead>\n  <tbody>\n    <tr>\n      <th>0</th>\n      <td>3500105</td>\n      <td>Interior</td>\n      <td>Adamantina</td>\n      <td>3421</td>\n      <td>110</td>\n    </tr>\n  </tbody>\n</table>\n</div>"
     },
     "metadata": {},
     "execution_count": 127
    }
   ],
   "source": [
    "df.head(1)"
   ]
  },
  {
   "cell_type": "code",
   "execution_count": 35,
   "metadata": {},
   "outputs": [
    {
     "output_type": "stream",
     "name": "stdout",
     "text": [
      "<class 'pandas.core.frame.DataFrame'>\nRangeIndex: 645 entries, 0 to 644\nData columns (total 5 columns):\n #   Column               Non-Null Count  Dtype \n---  ------               --------------  ----- \n 0   Cod_IBGE             645 non-null    int64 \n 1   Grande região        645 non-null    object\n 2   Município            645 non-null    object\n 3   Mun_Total de casos   645 non-null    int64 \n 4   Mun_Total de óbitos  645 non-null    int64 \ndtypes: int64(3), object(2)\nmemory usage: 25.3+ KB\n"
     ]
    }
   ],
   "source": [
    "df.info()"
   ]
  },
  {
   "cell_type": "code",
   "execution_count": 97,
   "metadata": {},
   "outputs": [],
   "source": [
    "array_cidades = df['Município'].values\n",
    "array_mortes = df['Mun_Total de óbitos'].values\n",
    "array_regiao = df['Grande região'].values\n",
    "array_casos = df['Mun_Total de casos'].values\n",
    "\n",
    "soma_mortes = df['Mun_Total de óbitos'].sum()\n",
    "soma_casos = df['Mun_Total de casos'].sum()"
   ]
  },
  {
   "cell_type": "code",
   "execution_count": 131,
   "metadata": {},
   "outputs": [
    {
     "output_type": "execute_result",
     "data": {
      "text/plain": [
       "3789155"
      ]
     },
     "metadata": {},
     "execution_count": 131
    }
   ],
   "source": [
    "#Total de casos de covid no Estado de São Paulo até 04 de Julho de 2021\n",
    "\n",
    "soma_casos"
   ]
  },
  {
   "cell_type": "code",
   "execution_count": 99,
   "metadata": {},
   "outputs": [
    {
     "output_type": "execute_result",
     "data": {
      "text/plain": [
       "129675"
      ]
     },
     "metadata": {},
     "execution_count": 99
    }
   ],
   "source": [
    "#Total de mortes por covid no Estado de São Paulo até 04 de Julho de 2021\n",
    "\n",
    "soma_mortes"
   ]
  },
  {
   "cell_type": "code",
   "execution_count": 101,
   "metadata": {},
   "outputs": [
    {
     "output_type": "execute_result",
     "data": {
      "text/plain": [
       "3.4222669698125303"
      ]
     },
     "metadata": {},
     "execution_count": 101
    }
   ],
   "source": [
    "#Letalidade COVID no Estado de São Paulo até 04 de Julho de 2021\n",
    "\n",
    "\n",
    "soma_mortes/soma_casos*100"
   ]
  },
  {
   "cell_type": "code",
   "execution_count": 89,
   "metadata": {},
   "outputs": [
    {
     "output_type": "execute_result",
     "data": {
      "text/plain": [
       "     Cod_IBGE          Grande região              Município  \\\n",
       "562   3550308                Capital              São Paulo   \n",
       "212   3518800  RMSP (exceto capital)              Guarulhos   \n",
       "108   3509502               Interior               Campinas   \n",
       "544   3548708  RMSP (exceto capital)  São Bernardo do Campo   \n",
       "534   3547809  RMSP (exceto capital)            Santo André   \n",
       "\n",
       "     Mun_Total de casos  Mun_Total de óbitos  \n",
       "562              863581                33820  \n",
       "212               58251                 4381  \n",
       "108               95793                 3791  \n",
       "544               67630                 2929  \n",
       "534               58648                 2768  "
      ],
      "text/html": "<div>\n<style scoped>\n    .dataframe tbody tr th:only-of-type {\n        vertical-align: middle;\n    }\n\n    .dataframe tbody tr th {\n        vertical-align: top;\n    }\n\n    .dataframe thead th {\n        text-align: right;\n    }\n</style>\n<table border=\"1\" class=\"dataframe\">\n  <thead>\n    <tr style=\"text-align: right;\">\n      <th></th>\n      <th>Cod_IBGE</th>\n      <th>Grande região</th>\n      <th>Município</th>\n      <th>Mun_Total de casos</th>\n      <th>Mun_Total de óbitos</th>\n    </tr>\n  </thead>\n  <tbody>\n    <tr>\n      <th>562</th>\n      <td>3550308</td>\n      <td>Capital</td>\n      <td>São Paulo</td>\n      <td>863581</td>\n      <td>33820</td>\n    </tr>\n    <tr>\n      <th>212</th>\n      <td>3518800</td>\n      <td>RMSP (exceto capital)</td>\n      <td>Guarulhos</td>\n      <td>58251</td>\n      <td>4381</td>\n    </tr>\n    <tr>\n      <th>108</th>\n      <td>3509502</td>\n      <td>Interior</td>\n      <td>Campinas</td>\n      <td>95793</td>\n      <td>3791</td>\n    </tr>\n    <tr>\n      <th>544</th>\n      <td>3548708</td>\n      <td>RMSP (exceto capital)</td>\n      <td>São Bernardo do Campo</td>\n      <td>67630</td>\n      <td>2929</td>\n    </tr>\n    <tr>\n      <th>534</th>\n      <td>3547809</td>\n      <td>RMSP (exceto capital)</td>\n      <td>Santo André</td>\n      <td>58648</td>\n      <td>2768</td>\n    </tr>\n  </tbody>\n</table>\n</div>"
     },
     "metadata": {},
     "execution_count": 89
    }
   ],
   "source": [
    "#Quais as 5 cidades com mais mortes por Covid no Estado de SP?\n",
    "\n",
    "df.sort_values(['Mun_Total de óbitos'], ascending=False).head(5)"
   ]
  },
  {
   "cell_type": "code",
   "execution_count": 90,
   "metadata": {},
   "outputs": [
    {
     "output_type": "execute_result",
     "data": {
      "text/plain": [
       "     Cod_IBGE Grande região              Município  Mun_Total de casos  \\\n",
       "562   3550308       Capital              São Paulo              863581   \n",
       "108   3509502      Interior               Campinas               95793   \n",
       "556   3549805      Interior  São José do Rio Preto               85414   \n",
       "557   3549904      Interior    São José dos Campos               83105   \n",
       "487   3543402      Interior         Ribeirão Preto               68353   \n",
       "\n",
       "     Mun_Total de óbitos  \n",
       "562                33820  \n",
       "108                 3791  \n",
       "556                 2504  \n",
       "557                 1747  \n",
       "487                 2576  "
      ],
      "text/html": "<div>\n<style scoped>\n    .dataframe tbody tr th:only-of-type {\n        vertical-align: middle;\n    }\n\n    .dataframe tbody tr th {\n        vertical-align: top;\n    }\n\n    .dataframe thead th {\n        text-align: right;\n    }\n</style>\n<table border=\"1\" class=\"dataframe\">\n  <thead>\n    <tr style=\"text-align: right;\">\n      <th></th>\n      <th>Cod_IBGE</th>\n      <th>Grande região</th>\n      <th>Município</th>\n      <th>Mun_Total de casos</th>\n      <th>Mun_Total de óbitos</th>\n    </tr>\n  </thead>\n  <tbody>\n    <tr>\n      <th>562</th>\n      <td>3550308</td>\n      <td>Capital</td>\n      <td>São Paulo</td>\n      <td>863581</td>\n      <td>33820</td>\n    </tr>\n    <tr>\n      <th>108</th>\n      <td>3509502</td>\n      <td>Interior</td>\n      <td>Campinas</td>\n      <td>95793</td>\n      <td>3791</td>\n    </tr>\n    <tr>\n      <th>556</th>\n      <td>3549805</td>\n      <td>Interior</td>\n      <td>São José do Rio Preto</td>\n      <td>85414</td>\n      <td>2504</td>\n    </tr>\n    <tr>\n      <th>557</th>\n      <td>3549904</td>\n      <td>Interior</td>\n      <td>São José dos Campos</td>\n      <td>83105</td>\n      <td>1747</td>\n    </tr>\n    <tr>\n      <th>487</th>\n      <td>3543402</td>\n      <td>Interior</td>\n      <td>Ribeirão Preto</td>\n      <td>68353</td>\n      <td>2576</td>\n    </tr>\n  </tbody>\n</table>\n</div>"
     },
     "metadata": {},
     "execution_count": 90
    }
   ],
   "source": [
    "#Quais as 5 cidades com mais casos por Covid no Estado de SP?\n",
    "\n",
    "df.sort_values(['Mun_Total de casos'], ascending=False).head(5)"
   ]
  },
  {
   "cell_type": "code",
   "execution_count": 120,
   "metadata": {
    "tags": []
   },
   "outputs": [
    {
     "output_type": "stream",
     "name": "stdout",
     "text": [
      " Cidade   Casos   Mortes   Letalidade \nOsasco | 40058 | 2306 | 5.756652853362624\n"
     ]
    }
   ],
   "source": [
    "#Casos, Mortes e Letalidade por Cidade\n",
    "\n",
    "i = 0\n",
    "nome_cidade = 'Osasco'\n",
    "\n",
    "print(\" Cidade \",\" Casos \",\" Mortes \",\" Letalidade \")\n",
    "\n",
    "while i < array_cidades.size:  \n",
    "  if nome_cidade == array_cidades[i]:\n",
    "    print(array_cidades[i],'|', array_casos[i],'|',array_mortes[i],'|',array_mortes[i]/array_casos[i]*100)\n",
    "  i += 1"
   ]
  },
  {
   "cell_type": "code",
   "execution_count": 40,
   "metadata": {},
   "outputs": [
    {
     "output_type": "execute_result",
     "data": {
      "text/plain": [
       "                       Mun_Total de óbitos\n",
       "Grande região                             \n",
       "Interior                             67515\n",
       "Capital                              33820\n",
       "RMSP (exceto capital)                28340"
      ],
      "text/html": "<div>\n<style scoped>\n    .dataframe tbody tr th:only-of-type {\n        vertical-align: middle;\n    }\n\n    .dataframe tbody tr th {\n        vertical-align: top;\n    }\n\n    .dataframe thead th {\n        text-align: right;\n    }\n</style>\n<table border=\"1\" class=\"dataframe\">\n  <thead>\n    <tr style=\"text-align: right;\">\n      <th></th>\n      <th>Mun_Total de óbitos</th>\n    </tr>\n    <tr>\n      <th>Grande região</th>\n      <th></th>\n    </tr>\n  </thead>\n  <tbody>\n    <tr>\n      <th>Interior</th>\n      <td>67515</td>\n    </tr>\n    <tr>\n      <th>Capital</th>\n      <td>33820</td>\n    </tr>\n    <tr>\n      <th>RMSP (exceto capital)</th>\n      <td>28340</td>\n    </tr>\n  </tbody>\n</table>\n</div>"
     },
     "metadata": {},
     "execution_count": 40
    }
   ],
   "source": [
    "#Total de mortes agrupados por região\n",
    "\n",
    "df.groupby('Grande região')[['Mun_Total de óbitos']].sum().sort_values(['Mun_Total de óbitos'], ascending=False).head(5)"
   ]
  },
  {
   "cell_type": "code",
   "execution_count": 129,
   "metadata": {},
   "outputs": [
    {
     "output_type": "execute_result",
     "data": {
      "text/plain": [
       "                       Mun_Total de casos\n",
       "Grande região                            \n",
       "Interior                          2330193\n",
       "Capital                            863581\n",
       "RMSP (exceto capital)              595381"
      ],
      "text/html": "<div>\n<style scoped>\n    .dataframe tbody tr th:only-of-type {\n        vertical-align: middle;\n    }\n\n    .dataframe tbody tr th {\n        vertical-align: top;\n    }\n\n    .dataframe thead th {\n        text-align: right;\n    }\n</style>\n<table border=\"1\" class=\"dataframe\">\n  <thead>\n    <tr style=\"text-align: right;\">\n      <th></th>\n      <th>Mun_Total de casos</th>\n    </tr>\n    <tr>\n      <th>Grande região</th>\n      <th></th>\n    </tr>\n  </thead>\n  <tbody>\n    <tr>\n      <th>Interior</th>\n      <td>2330193</td>\n    </tr>\n    <tr>\n      <th>Capital</th>\n      <td>863581</td>\n    </tr>\n    <tr>\n      <th>RMSP (exceto capital)</th>\n      <td>595381</td>\n    </tr>\n  </tbody>\n</table>\n</div>"
     },
     "metadata": {},
     "execution_count": 129
    }
   ],
   "source": [
    "#Total de casos agrupados por região\n",
    "\n",
    "df.groupby('Grande região')[['Mun_Total de casos']].sum().sort_values(['Mun_Total de casos'], ascending=False).head(5)"
   ]
  },
  {
   "cell_type": "code",
   "execution_count": null,
   "metadata": {},
   "outputs": [],
   "source": []
  }
 ]
}